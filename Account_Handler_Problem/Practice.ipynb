{
 "cells": [
  {
   "cell_type": "code",
   "execution_count": 1,
   "id": "d91bd60d",
   "metadata": {},
   "outputs": [],
   "source": [
    "def net_amount():\n",
    "    balance = 0\n",
    "    amount = 0\n",
    "    while True:\n",
    "        \n",
    "        query = input(\"Press D for deposit, Press W for withdraw, Press Q for quit: \")\n",
    "        \n",
    "        \n",
    "        if query == \"D\" or query == \"d\":\n",
    "            \n",
    "            try:\n",
    "                amount = int(input(\"How much you want to deposit: \"))\n",
    "            \n",
    "            except ValueError:\n",
    "                print(\"Sting can't be deposited. Please enter a integer number\")\n",
    "                continue \n",
    "            \n",
    "            balance += amount\n",
    "            print(\"Net Amount: \",balance)\n",
    "            \n",
    "            \n",
    "            \n",
    "        elif query == \"W\" or query==\"w\":\n",
    "            \n",
    "            try:\n",
    "                amount = int(input(\"How much you want to withdraw: \"))\n",
    "            \n",
    "            except ValueError:\n",
    "                print(\"Sting can't be withdraw. Please enter a integer number\")\n",
    "                continue\n",
    "            \n",
    "            if  balance < amount:\n",
    "                print(\"Insufficent balance \",balance,\" Please deposit first :)\")\n",
    "                \n",
    "            else:\n",
    "                balance -= amount\n",
    "                print(\"Net Amount: \",balance)\n",
    "            \n",
    "            \n",
    "            \n",
    "        elif query==\"Q\" or query==\"q\":\n",
    "            print(\"Net Amount: \",balance)\n",
    "            break\n",
    "        \n",
    "        else:\n",
    "            print(\"Wrong input. Kindly type the correct keywords\")\n",
    "                \n",
    "                \n",
    "            \n",
    "            \n",
    "            "
   ]
  },
  {
   "cell_type": "code",
   "execution_count": 2,
   "id": "9dae7fc4",
   "metadata": {
    "scrolled": true
   },
   "outputs": [
    {
     "name": "stdout",
     "output_type": "stream",
     "text": [
      "Press D for deposit, Press W for withdraw, Press Q for quit: d\n",
      "How much you want to deposit: s\n",
      "Sting can't be deposited. Please enter a integer number\n",
      "Press D for deposit, Press W for withdraw, Press Q for quit: d\n",
      "How much you want to deposit: 1000\n",
      "Net Amount:  1000\n",
      "Press D for deposit, Press W for withdraw, Press Q for quit: w\n",
      "How much you want to deposit: g\n",
      "Sting can't be withdraw. Please enter a integer number\n",
      "Press D for deposit, Press W for withdraw, Press Q for quit: w\n",
      "How much you want to deposit: 500\n",
      "Net Amount:  500\n",
      "Press D for deposit, Press W for withdraw, Press Q for quit: w\n",
      "How much you want to deposit: 700\n",
      "Insufficent balance  500  Please deposit first :)\n",
      "Press D for deposit, Press W for withdraw, Press Q for quit: q\n"
     ]
    }
   ],
   "source": [
    "net_amount()"
   ]
  },
  {
   "cell_type": "code",
   "execution_count": null,
   "id": "7126dfc9",
   "metadata": {},
   "outputs": [],
   "source": []
  },
  {
   "cell_type": "code",
   "execution_count": null,
   "id": "2ce1e996",
   "metadata": {},
   "outputs": [],
   "source": []
  },
  {
   "cell_type": "code",
   "execution_count": null,
   "id": "e632b210",
   "metadata": {},
   "outputs": [],
   "source": []
  }
 ],
 "metadata": {
  "kernelspec": {
   "display_name": "Python 3 (ipykernel)",
   "language": "python",
   "name": "python3"
  },
  "language_info": {
   "codemirror_mode": {
    "name": "ipython",
    "version": 3
   },
   "file_extension": ".py",
   "mimetype": "text/x-python",
   "name": "python",
   "nbconvert_exporter": "python",
   "pygments_lexer": "ipython3",
   "version": "3.9.12"
  }
 },
 "nbformat": 4,
 "nbformat_minor": 5
}
