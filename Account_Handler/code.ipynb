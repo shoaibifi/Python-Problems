{
 "cells": [
  {
   "cell_type": "code",
   "execution_count": 3,
   "id": "3254e506",
   "metadata": {},
   "outputs": [],
   "source": [
    "def net_amount():\n",
    "    balance = 0\n",
    "    while True:\n",
    "        \n",
    "        query = input(\"Press D for deposit, Press W for withdraw, Press Q for quit: \")\n",
    "        \n",
    "        if query == \"D\" or query == \"d\":\n",
    "            amount = input(\"How much you want to deposit: \")\n",
    "            amount \n",
    "            \n",
    "            if(type(amount) == int):\n",
    "                balance += amount\n",
    "                print(\"Net Amount: \",balance)\n",
    "            \n",
    "            else:\n",
    "                print(\"Wrong input. Kindly type the correct integer amount.\")\n",
    "            \n",
    "        elif query == \"W\" or query==\"w\":\n",
    "            amount = int(input(\"How much you want to withdraw: \"))\n",
    "            \n",
    "            if(type(amount) == int):\n",
    "                \n",
    "                if  balance < amount:\n",
    "                    print(\"Insufficent balance \",balance,\" Please deposit first :)\")\n",
    "                \n",
    "                else:\n",
    "                    balance -= amount\n",
    "                    print(\"Net Amount: \",balance)\n",
    "            \n",
    "            else:\n",
    "                print(\"Wrong input. Kindly type the correct integer amount.\")\n",
    "            \n",
    "        elif query==\"Q\" or query==\"q\":\n",
    "            break\n",
    "        \n",
    "        else:\n",
    "            print(\"Wrong input. Kindly type the correct keywords\")\n",
    "                \n",
    "                \n",
    "            \n",
    "            \n",
    "            "
   ]
  },
  {
   "cell_type": "code",
   "execution_count": 4,
   "id": "3c643796",
   "metadata": {},
   "outputs": [
    {
     "name": "stdout",
     "output_type": "stream",
     "text": [
      "Press D for deposit, Press W for withdraw, Press Q for quit: d\n",
      "How much you want to deposit: t\n"
     ]
    },
    {
     "ename": "ValueError",
     "evalue": "invalid literal for int() with base 10: 't'",
     "output_type": "error",
     "traceback": [
      "\u001b[0;31m---------------------------------------------------------------------------\u001b[0m",
      "\u001b[0;31mValueError\u001b[0m                                Traceback (most recent call last)",
      "Cell \u001b[0;32mIn[4], line 1\u001b[0m\n\u001b[0;32m----> 1\u001b[0m \u001b[43mnet_amount\u001b[49m\u001b[43m(\u001b[49m\u001b[43m)\u001b[49m\n",
      "Cell \u001b[0;32mIn[3], line 9\u001b[0m, in \u001b[0;36mnet_amount\u001b[0;34m()\u001b[0m\n\u001b[1;32m      7\u001b[0m \u001b[38;5;28;01mif\u001b[39;00m query \u001b[38;5;241m==\u001b[39m \u001b[38;5;124m\"\u001b[39m\u001b[38;5;124mD\u001b[39m\u001b[38;5;124m\"\u001b[39m \u001b[38;5;129;01mor\u001b[39;00m query \u001b[38;5;241m==\u001b[39m \u001b[38;5;124m\"\u001b[39m\u001b[38;5;124md\u001b[39m\u001b[38;5;124m\"\u001b[39m:\n\u001b[1;32m      8\u001b[0m     amount \u001b[38;5;241m=\u001b[39m \u001b[38;5;28minput\u001b[39m(\u001b[38;5;124m\"\u001b[39m\u001b[38;5;124mHow much you want to deposit: \u001b[39m\u001b[38;5;124m\"\u001b[39m)\n\u001b[0;32m----> 9\u001b[0m     amount \u001b[38;5;241m=\u001b[39m \u001b[38;5;28;43mint\u001b[39;49m\u001b[43m(\u001b[49m\u001b[43mamount\u001b[49m\u001b[43m)\u001b[49m\n\u001b[1;32m     11\u001b[0m     \u001b[38;5;28;01mif\u001b[39;00m(\u001b[38;5;28mtype\u001b[39m(amount) \u001b[38;5;241m==\u001b[39m \u001b[38;5;28mint\u001b[39m):\n\u001b[1;32m     12\u001b[0m         balance \u001b[38;5;241m+\u001b[39m\u001b[38;5;241m=\u001b[39m amount\n",
      "\u001b[0;31mValueError\u001b[0m: invalid literal for int() with base 10: 't'"
     ]
    }
   ],
   "source": [
    "net_amount()"
   ]
  },
  {
   "cell_type": "code",
   "execution_count": null,
   "id": "4b65a147",
   "metadata": {},
   "outputs": [],
   "source": []
  }
 ],
 "metadata": {
  "kernelspec": {
   "display_name": "Python 3 (ipykernel)",
   "language": "python",
   "name": "python3"
  },
  "language_info": {
   "codemirror_mode": {
    "name": "ipython",
    "version": 3
   },
   "file_extension": ".py",
   "mimetype": "text/x-python",
   "name": "python",
   "nbconvert_exporter": "python",
   "pygments_lexer": "ipython3",
   "version": "3.9.12"
  }
 },
 "nbformat": 4,
 "nbformat_minor": 5
}
